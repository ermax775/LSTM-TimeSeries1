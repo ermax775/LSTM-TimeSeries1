{
  "nbformat": 4,
  "nbformat_minor": 0,
  "metadata": {
    "colab": {
      "name": "VARtest1.ipynb",
      "provenance": [],
      "collapsed_sections": [],
      "authorship_tag": "ABX9TyN4CMnNhXdWi+cnQiQ+WJYb",
      "include_colab_link": true
    },
    "kernelspec": {
      "name": "python3",
      "display_name": "Python 3"
    },
    "language_info": {
      "name": "python"
    }
  },
  "cells": [
    {
      "cell_type": "markdown",
      "metadata": {
        "id": "view-in-github",
        "colab_type": "text"
      },
      "source": [
        "<a href=\"https://colab.research.google.com/github/ermax775/LSTM-TimeSeries1/blob/main/VARtest2.ipynb\" target=\"_parent\"><img src=\"https://colab.research.google.com/assets/colab-badge.svg\" alt=\"Open In Colab\"/></a>"
      ]
    },
    {
      "cell_type": "code",
      "execution_count": null,
      "metadata": {
        "id": "PHL7oQf0d_pw"
      },
      "outputs": [],
      "source": [
        "from statsmodels.graphics.tsaplots import plot_acf, plot_pacf\n",
        "from statsmodels.tsa.statespace.varmax import VARMAX\n",
        "from statsmodels.tsa.api import VAR\n",
        "from statsmodels.tsa.stattools import grangercausalitytests, adfuller\n",
        "from tqdm import tqdm_notebook\n",
        "from itertools import product\n",
        "\n",
        "import matplotlib.pyplot as plt\n",
        "import statsmodels.api as sm\n",
        "import pandas as pd\n",
        "import numpy as np\n",
        "import os\n",
        "\n",
        "import warnings\n",
        "warnings.filterwarnings('ignore')"
      ]
    },
    {
      "cell_type": "code",
      "source": [
        "from google.colab import drive\n",
        "drive.mount('/content/drive')"
      ],
      "metadata": {
        "colab": {
          "base_uri": "https://localhost:8080/"
        },
        "id": "21whlTIDw0--",
        "outputId": "94f7bde8-548d-4f2f-9310-a37d5171ac04"
      },
      "execution_count": null,
      "outputs": [
        {
          "output_type": "stream",
          "name": "stdout",
          "text": [
            "Mounted at /content/drive\n"
          ]
        }
      ]
    },
    {
      "cell_type": "code",
      "source": [
        "import os\n",
        "os.chdir('/content/drive/MyDrive')\n",
        "!ls"
      ],
      "metadata": {
        "colab": {
          "base_uri": "https://localhost:8080/"
        },
        "id": "TBHB2gd5sE5p",
        "outputId": "6267c83b-cbf5-43f8-eed3-89b1c70a39a6"
      },
      "execution_count": null,
      "outputs": [
        {
          "output_type": "stream",
          "name": "stdout",
          "text": [
            "'Colab Notebooks'\n",
            " GEE\n",
            "'How to get started with Drive.pdf'\n",
            " test4a.csv\n",
            " test4.csv\n",
            " test6.csv\n",
            "'Tyrranical TPLF.doc'\n",
            "'Tyrranical TPLF Rule and the Agony of the Ethiopians.docx'\n"
          ]
        }
      ]
    },
    {
      "cell_type": "code",
      "source": [
        "filepath = 'test7.csv'\n",
        "macro_data = pd.read_csv(filepath, parse_dates=['Date'], index_col='Date')\n",
        "print(macro_data.shape)  # (49, 4)\n",
        "macro_data.head()"
      ],
      "metadata": {
        "colab": {
          "base_uri": "https://localhost:8080/",
          "height": 255
        },
        "id": "zaqWtGF4sFEF",
        "outputId": "eb8c19e7-a442-444b-ee35-b4c8159e3cbf"
      },
      "execution_count": null,
      "outputs": [
        {
          "output_type": "stream",
          "name": "stdout",
          "text": [
            "(123, 4)\n"
          ]
        },
        {
          "output_type": "execute_result",
          "data": {
            "text/html": [
              "\n",
              "  <div id=\"df-af623e93-8dea-44ce-8df7-fe0428319703\">\n",
              "    <div class=\"colab-df-container\">\n",
              "      <div>\n",
              "<style scoped>\n",
              "    .dataframe tbody tr th:only-of-type {\n",
              "        vertical-align: middle;\n",
              "    }\n",
              "\n",
              "    .dataframe tbody tr th {\n",
              "        vertical-align: top;\n",
              "    }\n",
              "\n",
              "    .dataframe thead th {\n",
              "        text-align: right;\n",
              "    }\n",
              "</style>\n",
              "<table border=\"1\" class=\"dataframe\">\n",
              "  <thead>\n",
              "    <tr style=\"text-align: right;\">\n",
              "      <th></th>\n",
              "      <th>TempMean</th>\n",
              "      <th>PrecipMean</th>\n",
              "      <th>gdfce</th>\n",
              "      <th>Product</th>\n",
              "    </tr>\n",
              "    <tr>\n",
              "      <th>Date</th>\n",
              "      <th></th>\n",
              "      <th></th>\n",
              "      <th></th>\n",
              "      <th></th>\n",
              "    </tr>\n",
              "  </thead>\n",
              "  <tbody>\n",
              "    <tr>\n",
              "      <th>2011-11-01</th>\n",
              "      <td>26.9</td>\n",
              "      <td>32.3</td>\n",
              "      <td>23.1</td>\n",
              "      <td>1606.4</td>\n",
              "    </tr>\n",
              "    <tr>\n",
              "      <th>2011-12-01</th>\n",
              "      <td>27.0</td>\n",
              "      <td>32.2</td>\n",
              "      <td>23.4</td>\n",
              "      <td>1637.0</td>\n",
              "    </tr>\n",
              "    <tr>\n",
              "      <th>2012-01-01</th>\n",
              "      <td>27.1</td>\n",
              "      <td>32.4</td>\n",
              "      <td>23.4</td>\n",
              "      <td>1629.5</td>\n",
              "    </tr>\n",
              "    <tr>\n",
              "      <th>2012-02-01</th>\n",
              "      <td>27.1</td>\n",
              "      <td>32.5</td>\n",
              "      <td>23.8</td>\n",
              "      <td>1643.4</td>\n",
              "    </tr>\n",
              "    <tr>\n",
              "      <th>2012-03-01</th>\n",
              "      <td>27.2</td>\n",
              "      <td>32.4</td>\n",
              "      <td>23.8</td>\n",
              "      <td>1671.6</td>\n",
              "    </tr>\n",
              "  </tbody>\n",
              "</table>\n",
              "</div>\n",
              "      <button class=\"colab-df-convert\" onclick=\"convertToInteractive('df-af623e93-8dea-44ce-8df7-fe0428319703')\"\n",
              "              title=\"Convert this dataframe to an interactive table.\"\n",
              "              style=\"display:none;\">\n",
              "        \n",
              "  <svg xmlns=\"http://www.w3.org/2000/svg\" height=\"24px\"viewBox=\"0 0 24 24\"\n",
              "       width=\"24px\">\n",
              "    <path d=\"M0 0h24v24H0V0z\" fill=\"none\"/>\n",
              "    <path d=\"M18.56 5.44l.94 2.06.94-2.06 2.06-.94-2.06-.94-.94-2.06-.94 2.06-2.06.94zm-11 1L8.5 8.5l.94-2.06 2.06-.94-2.06-.94L8.5 2.5l-.94 2.06-2.06.94zm10 10l.94 2.06.94-2.06 2.06-.94-2.06-.94-.94-2.06-.94 2.06-2.06.94z\"/><path d=\"M17.41 7.96l-1.37-1.37c-.4-.4-.92-.59-1.43-.59-.52 0-1.04.2-1.43.59L10.3 9.45l-7.72 7.72c-.78.78-.78 2.05 0 2.83L4 21.41c.39.39.9.59 1.41.59.51 0 1.02-.2 1.41-.59l7.78-7.78 2.81-2.81c.8-.78.8-2.07 0-2.86zM5.41 20L4 18.59l7.72-7.72 1.47 1.35L5.41 20z\"/>\n",
              "  </svg>\n",
              "      </button>\n",
              "      \n",
              "  <style>\n",
              "    .colab-df-container {\n",
              "      display:flex;\n",
              "      flex-wrap:wrap;\n",
              "      gap: 12px;\n",
              "    }\n",
              "\n",
              "    .colab-df-convert {\n",
              "      background-color: #E8F0FE;\n",
              "      border: none;\n",
              "      border-radius: 50%;\n",
              "      cursor: pointer;\n",
              "      display: none;\n",
              "      fill: #1967D2;\n",
              "      height: 32px;\n",
              "      padding: 0 0 0 0;\n",
              "      width: 32px;\n",
              "    }\n",
              "\n",
              "    .colab-df-convert:hover {\n",
              "      background-color: #E2EBFA;\n",
              "      box-shadow: 0px 1px 2px rgba(60, 64, 67, 0.3), 0px 1px 3px 1px rgba(60, 64, 67, 0.15);\n",
              "      fill: #174EA6;\n",
              "    }\n",
              "\n",
              "    [theme=dark] .colab-df-convert {\n",
              "      background-color: #3B4455;\n",
              "      fill: #D2E3FC;\n",
              "    }\n",
              "\n",
              "    [theme=dark] .colab-df-convert:hover {\n",
              "      background-color: #434B5C;\n",
              "      box-shadow: 0px 1px 3px 1px rgba(0, 0, 0, 0.15);\n",
              "      filter: drop-shadow(0px 1px 2px rgba(0, 0, 0, 0.3));\n",
              "      fill: #FFFFFF;\n",
              "    }\n",
              "  </style>\n",
              "\n",
              "      <script>\n",
              "        const buttonEl =\n",
              "          document.querySelector('#df-af623e93-8dea-44ce-8df7-fe0428319703 button.colab-df-convert');\n",
              "        buttonEl.style.display =\n",
              "          google.colab.kernel.accessAllowed ? 'block' : 'none';\n",
              "\n",
              "        async function convertToInteractive(key) {\n",
              "          const element = document.querySelector('#df-af623e93-8dea-44ce-8df7-fe0428319703');\n",
              "          const dataTable =\n",
              "            await google.colab.kernel.invokeFunction('convertToInteractive',\n",
              "                                                     [key], {});\n",
              "          if (!dataTable) return;\n",
              "\n",
              "          const docLinkHtml = 'Like what you see? Visit the ' +\n",
              "            '<a target=\"_blank\" href=https://colab.research.google.com/notebooks/data_table.ipynb>data table notebook</a>'\n",
              "            + ' to learn more about interactive tables.';\n",
              "          element.innerHTML = '';\n",
              "          dataTable['output_type'] = 'display_data';\n",
              "          await google.colab.output.renderOutput(dataTable, element);\n",
              "          const docLink = document.createElement('div');\n",
              "          docLink.innerHTML = docLinkHtml;\n",
              "          element.appendChild(docLink);\n",
              "        }\n",
              "      </script>\n",
              "    </div>\n",
              "  </div>\n",
              "  "
            ],
            "text/plain": [
              "            TempMean  PrecipMean  gdfce  Product\n",
              "Date                                            \n",
              "2011-11-01      26.9        32.3   23.1   1606.4\n",
              "2011-12-01      27.0        32.2   23.4   1637.0\n",
              "2012-01-01      27.1        32.4   23.4   1629.5\n",
              "2012-02-01      27.1        32.5   23.8   1643.4\n",
              "2012-03-01      27.2        32.4   23.8   1671.6"
            ]
          },
          "metadata": {},
          "execution_count": 26
        }
      ]
    },
    {
      "cell_type": "code",
      "source": [
        "fig, axes = plt.subplots(nrows=2, ncols=2, dpi=120, figsize=(10,6))\n",
        "for i, ax in enumerate(axes.flatten()):\n",
        "    data = macro_data[macro_data.columns[i]]\n",
        "    ax.plot(data, color='red', linewidth=1)\n",
        "    # Decorations\n",
        "    ax.set_title(macro_data.columns[i])\n",
        "    ax.xaxis.set_ticks_position('none')\n",
        "    ax.yaxis.set_ticks_position('none')\n",
        "    ax.spines[\"top\"].set_alpha(0)\n",
        "    ax.tick_params(labelsize=6)\n",
        "\n",
        "plt.tight_layout();"
      ],
      "metadata": {
        "id": "UJ-ng3s5CaoG",
        "colab": {
          "base_uri": "https://localhost:8080/",
          "height": 724
        },
        "outputId": "a6bad93c-0bd1-4767-d91f-7bf6d52c1458"
      },
      "execution_count": null,
      "outputs": [
        {
          "output_type": "display_data",
          "data": {
            "image/png": "[encoded data removed]",
            "text/plain": [
              "<Figure size 1200x720 with 4 Axes>"
            ]
          },
          "metadata": {
            "needs_background": "light"
          }
        }
      ]
    },
    {
      "cell_type": "code",
      "source": [
        "ad_fuller_result_1 = adfuller(macro_data['PrecipMean'].diff()[1:])\n",
        "\n",
        "print('realPrecip')\n",
        "print(f'ADF Statistic: {ad_fuller_result_1[0]}')\n",
        "print(f'p-value: {ad_fuller_result_1[1]}')\n",
        "\n",
        "print('\\n---------------------\\n')\n",
        "\n",
        "ad_fuller_result_2 = adfuller(macro_data['TempMean'].diff()[1:])\n",
        "\n",
        "print('realTemp')\n",
        "print(f'ADF Statistic: {ad_fuller_result_2[0]}')\n",
        "print(f'p-value: {ad_fuller_result_2[1]}')"
      ],
      "metadata": {
        "colab": {
          "base_uri": "https://localhost:8080/"
        },
        "id": "dZ7cryovxjX3",
        "outputId": "f3debeec-a754-4fec-f9b3-de87a8a8fa0b"
      },
      "execution_count": null,
      "outputs": [
        {
          "output_type": "stream",
          "name": "stdout",
          "text": [
            "realPrecip\n",
            "ADF Statistic: -1.823665760965292\n",
            "p-value: 0.36877719974178913\n",
            "\n",
            "---------------------\n",
            "\n",
            "realTemp\n",
            "ADF Statistic: -4.244421412664248\n",
            "p-value: 0.000553653708669569\n"
          ]
        }
      ]
    },
    {
      "cell_type": "code",
      "source": [
        "print('Precipitation causes Temperature Flactuation?\\n')\n",
        "print('------------------')\n",
        "granger_1 = grangercausalitytests(macro_data[['TempMean', 'PrecipMean']], 4)\n",
        "\n",
        "print('\\nTemperature Rise&Fall causes Precipitation(Changes with Rainfall amount)?\\n')\n",
        "print('------------------')\n",
        "granger_2 = grangercausalitytests(macro_data[['PrecipMean', 'TempMean']], 4)"
      ],
      "metadata": {
        "colab": {
          "base_uri": "https://localhost:8080/"
        },
        "id": "5lDQhmP31kuQ",
        "outputId": "946d68e4-c4ce-4348-f994-8dbde5ad7b8c"
      },
      "execution_count": null,
      "outputs": [
        {
          "output_type": "stream",
          "name": "stdout",
          "text": [
            "Precipitation causes Temperature Flactuation?\n",
            "\n",
            "------------------\n",
            "\n",
            "Granger Causality\n",
            "number of lags (no zero) 1\n",
            "ssr based F test:         F=0.5123  , p=0.4755  , df_denom=119, df_num=1\n",
            "ssr based chi2 test:   chi2=0.5252  , p=0.4686  , df=1\n",
            "likelihood ratio test: chi2=0.5241  , p=0.4691  , df=1\n",
            "parameter F test:         F=0.5123  , p=0.4755  , df_denom=119, df_num=1\n",
            "\n",
            "Granger Causality\n",
            "number of lags (no zero) 2\n",
            "ssr based F test:         F=4.0256  , p=0.0204  , df_denom=116, df_num=2\n",
            "ssr based chi2 test:   chi2=8.3982  , p=0.0150  , df=2\n",
            "likelihood ratio test: chi2=8.1196  , p=0.0173  , df=2\n",
            "parameter F test:         F=4.0256  , p=0.0204  , df_denom=116, df_num=2\n",
            "\n",
            "Granger Causality\n",
            "number of lags (no zero) 3\n",
            "ssr based F test:         F=3.0882  , p=0.0301  , df_denom=113, df_num=3\n",
            "ssr based chi2 test:   chi2=9.8385  , p=0.0200  , df=3\n",
            "likelihood ratio test: chi2=9.4560  , p=0.0238  , df=3\n",
            "parameter F test:         F=3.0882  , p=0.0301  , df_denom=113, df_num=3\n",
            "\n",
            "Granger Causality\n",
            "number of lags (no zero) 4\n",
            "ssr based F test:         F=3.3764  , p=0.0120  , df_denom=110, df_num=4\n",
            "ssr based chi2 test:   chi2=14.6107 , p=0.0056  , df=4\n",
            "likelihood ratio test: chi2=13.7810 , p=0.0080  , df=4\n",
            "parameter F test:         F=3.3764  , p=0.0120  , df_denom=110, df_num=4\n",
            "\n",
            "Temperature Rise&Fall causes Precipitation(Changes with Rainfall amount)?\n",
            "\n",
            "------------------\n",
            "\n",
            "Granger Causality\n",
            "number of lags (no zero) 1\n",
            "ssr based F test:         F=5.0657  , p=0.0262  , df_denom=119, df_num=1\n",
            "ssr based chi2 test:   chi2=5.1934  , p=0.0227  , df=1\n",
            "likelihood ratio test: chi2=5.0859  , p=0.0241  , df=1\n",
            "parameter F test:         F=5.0657  , p=0.0262  , df_denom=119, df_num=1\n",
            "\n",
            "Granger Causality\n",
            "number of lags (no zero) 2\n",
            "ssr based F test:         F=4.9487  , p=0.0087  , df_denom=116, df_num=2\n",
            "ssr based chi2 test:   chi2=10.3239 , p=0.0057  , df=2\n",
            "likelihood ratio test: chi2=9.9071  , p=0.0071  , df=2\n",
            "parameter F test:         F=4.9487  , p=0.0087  , df_denom=116, df_num=2\n",
            "\n",
            "Granger Causality\n",
            "number of lags (no zero) 3\n",
            "ssr based F test:         F=2.6772  , p=0.0505  , df_denom=113, df_num=3\n",
            "ssr based chi2 test:   chi2=8.5292  , p=0.0363  , df=3\n",
            "likelihood ratio test: chi2=8.2397  , p=0.0413  , df=3\n",
            "parameter F test:         F=2.6772  , p=0.0505  , df_denom=113, df_num=3\n",
            "\n",
            "Granger Causality\n",
            "number of lags (no zero) 4\n",
            "ssr based F test:         F=1.7607  , p=0.1419  , df_denom=110, df_num=4\n",
            "ssr based chi2 test:   chi2=7.6191  , p=0.1066  , df=4\n",
            "likelihood ratio test: chi2=7.3851  , p=0.1169  , df=4\n",
            "parameter F test:         F=1.7607  , p=0.1419  , df_denom=110, df_num=4\n"
          ]
        }
      ]
    },
    {
      "cell_type": "code",
      "source": [
        "macro_data = macro_data[['TempMean','PrecipMean']]\n",
        "print(macro_data.shape)"
      ],
      "metadata": {
        "colab": {
          "base_uri": "https://localhost:8080/"
        },
        "id": "WW7VF4Wbxja2",
        "outputId": "0d913c45-e2c3-4a56-c65b-0b4535ee4c76"
      },
      "execution_count": null,
      "outputs": [
        {
          "output_type": "stream",
          "name": "stdout",
          "text": [
            "(123, 2)\n"
          ]
        }
      ]
    },
    {
      "cell_type": "code",
      "source": [
        "train_df=macro_data[:-12]\n",
        "test_df=macro_data[-12:]"
      ],
      "metadata": {
        "id": "oXWTTl8Oxjey"
      },
      "execution_count": null,
      "outputs": []
    },
    {
      "cell_type": "code",
      "source": [
        "print(test_df.shape)"
      ],
      "metadata": {
        "colab": {
          "base_uri": "https://localhost:8080/"
        },
        "id": "wE0LgPy-eFAH",
        "outputId": "424be9c9-7c6d-4e96-a20f-053cee7f8b25"
      },
      "execution_count": null,
      "outputs": [
        {
          "output_type": "stream",
          "name": "stdout",
          "text": [
            "(12, 2)\n"
          ]
        }
      ]
    },
    {
      "cell_type": "code",
      "source": [
        "model = VAR(train_df.diff()[1:])"
      ],
      "metadata": {
        "id": "GfqaCYFs3iPi"
      },
      "execution_count": null,
      "outputs": []
    },
    {
      "cell_type": "code",
      "source": [
        "sorted_order=model.select_order(maxlags=20)\n",
        "print(sorted_order.summary())"
      ],
      "metadata": {
        "colab": {
          "base_uri": "https://localhost:8080/"
        },
        "id": "E0yRnKhW3iTV",
        "outputId": "4324e8f4-9ce3-4852-87f6-5765f352a1c0"
      },
      "execution_count": null,
      "outputs": [
        {
          "output_type": "stream",
          "name": "stdout",
          "text": [
            " VAR Order Selection (* highlights the minimums)  \n",
            "==================================================\n",
            "       AIC         BIC         FPE         HQIC   \n",
            "--------------------------------------------------\n",
            "0     -0.05524   0.0003082      0.9463    -0.03284\n",
            "1       -1.007    -0.8404*      0.3653    -0.9398*\n",
            "2      -0.9615     -0.6837      0.3824     -0.8495\n",
            "3      -0.9937     -0.6048      0.3705     -0.8368\n",
            "4       -1.009     -0.5095      0.3649     -0.8078\n",
            "5      -0.9603     -0.3493      0.3837     -0.7139\n",
            "6      -0.9211     -0.1990      0.3997     -0.6299\n",
            "7      -0.9803     -0.1470      0.3776     -0.6442\n",
            "8       -1.011    -0.06649      0.3673     -0.6300\n",
            "9      -0.9774     0.07811      0.3812     -0.5517\n",
            "10     -0.9388      0.2278      0.3980     -0.4684\n",
            "11     -0.8712      0.4065      0.4283     -0.3560\n",
            "12     -0.9234      0.4654      0.4093     -0.3633\n",
            "13     -0.9149      0.5850      0.4161     -0.3100\n",
            "14     -0.9582      0.6528      0.4023     -0.3086\n",
            "15     -0.9532      0.7689      0.4088     -0.2587\n",
            "16      -1.037      0.7957      0.3806     -0.2982\n",
            "17      -1.040      0.9038      0.3852     -0.2564\n",
            "18      -1.105      0.9509      0.3674     -0.2757\n",
            "19      -1.437      0.7294      0.2686     -0.5634\n",
            "20     -1.484*      0.7938     0.2620*     -0.5653\n",
            "--------------------------------------------------\n"
          ]
        }
      ]
    },
    {
      "cell_type": "code",
      "source": [
        "var_model = VARMAX(train_df, order=(4,0),enforce_stationarity= True)\n",
        "fitted_model = var_model.fit(disp=False)\n",
        "print(fitted_model.summary())"
      ],
      "metadata": {
        "colab": {
          "base_uri": "https://localhost:8080/"
        },
        "id": "cybsuq5lDSM-",
        "outputId": "f41563c8-63ce-4122-ae7f-08b8586175a0"
      },
      "execution_count": null,
      "outputs": [
        {
          "output_type": "stream",
          "name": "stdout",
          "text": [
            "                               Statespace Model Results                               \n",
            "======================================================================================\n",
            "Dep. Variable:     ['TempMean', 'PrecipMean']   No. Observations:                  111\n",
            "Model:                                 VAR(4)   Log Likelihood                -829.486\n",
            "                                  + intercept   AIC                           1700.971\n",
            "Date:                        Thu, 03 Feb 2022   BIC                           1757.871\n",
            "Time:                                19:46:14   HQIC                          1724.054\n",
            "Sample:                            11-01-2011                                         \n",
            "                                 - 01-01-2021                                         \n",
            "Covariance Type:                          opg                                         \n",
            "===================================================================================\n",
            "Ljung-Box (Q):              370.70, 410.38   Jarque-Bera (JB):         44.55, 74.51\n",
            "Prob(Q):                        0.00, 0.00   Prob(JB):                   0.00, 0.00\n",
            "Heteroskedasticity (H):         1.47, 5.11   Skew:                       1.31, 1.16\n",
            "Prob(H) (two-sided):            0.25, 0.00   Kurtosis:                   4.67, 6.27\n",
            "                          Results for equation TempMean                          \n",
            "=================================================================================\n",
            "                    coef    std err          z      P>|z|      [0.025      0.975]\n",
            "---------------------------------------------------------------------------------\n",
            "intercept        54.2233     91.030      0.596      0.551    -124.193     232.639\n",
            "L1.TempMean       0.1630      1.561      0.104      0.917      -2.896       3.222\n",
            "L1.PrecipMean    -0.6391      2.582     -0.248      0.804      -5.699       4.421\n",
            "L2.TempMean       0.8425      1.715      0.491      0.623      -2.519       4.204\n",
            "L2.PrecipMean    -0.7050      2.513     -0.281      0.779      -5.631       4.221\n",
            "L3.TempMean       1.2505      2.109      0.593      0.553      -2.883       5.384\n",
            "L3.PrecipMean    -0.8918      2.605     -0.342      0.732      -5.997       4.213\n",
            "L4.TempMean       1.5699      2.951      0.532      0.595      -4.213       7.353\n",
            "L4.PrecipMean    -1.1307      2.880     -0.393      0.695      -6.776       4.514\n",
            "                         Results for equation PrecipMean                         \n",
            "=================================================================================\n",
            "                    coef    std err          z      P>|z|      [0.025      0.975]\n",
            "---------------------------------------------------------------------------------\n",
            "intercept        59.9572     78.486      0.764      0.445     -93.872     213.786\n",
            "L1.TempMean       0.2760      2.141      0.129      0.897      -3.921       4.473\n",
            "L1.PrecipMean    -0.4620      3.812     -0.121      0.904      -7.933       7.009\n",
            "L2.TempMean       0.6074      3.305      0.184      0.854      -5.871       7.086\n",
            "L2.PrecipMean    -0.2465      4.851     -0.051      0.959      -9.754       9.261\n",
            "L3.TempMean       0.5961      3.272      0.182      0.855      -5.816       7.008\n",
            "L3.PrecipMean    -0.4574      4.676     -0.098      0.922      -9.622       8.707\n",
            "L4.TempMean       1.6609      2.810      0.591      0.555      -3.847       7.169\n",
            "L4.PrecipMean    -1.5702      2.215     -0.709      0.478      -5.911       2.771\n",
            "                                    Error covariance matrix                                     \n",
            "================================================================================================\n",
            "                                   coef    std err          z      P>|z|      [0.025      0.975]\n",
            "------------------------------------------------------------------------------------------------\n",
            "sqrt.var.TempMean               10.5341     15.047      0.700      0.484     -18.957      40.025\n",
            "sqrt.cov.TempMean.PrecipMean     9.8769     20.747      0.476      0.634     -30.787      50.541\n",
            "sqrt.var.PrecipMean              8.0027     12.027      0.665      0.506     -15.570      31.575\n",
            "================================================================================================\n",
            "\n",
            "Warnings:\n",
            "[1] Covariance matrix calculated using the outer product of gradients (complex-step).\n"
          ]
        }
      ]
    },
    {
      "cell_type": "code",
      "source": [
        "#var_model = VARMAX(train_df, order=(4,0),enforce_stationarity= True)\n",
        "#fitted_model = var_model.fit(disp=False)\n",
        "#print(fitted_model.summary())"
      ],
      "metadata": {
        "colab": {
          "base_uri": "https://localhost:8080/",
          "height": 363
        },
        "id": "zsEFBokEChzD",
        "outputId": "5d024ec4-fc2e-4d2c-95ad-1a2f4b0e3ae3"
      },
      "execution_count": null,
      "outputs": [
        {
          "output_type": "error",
          "ename": "UFuncTypeError",
          "evalue": "ignored",
          "traceback": [
            "\u001b[0;31m---------------------------------------------------------------------------\u001b[0m",
            "\u001b[0;31mUFuncTypeError\u001b[0m                            Traceback (most recent call last)",
            "\u001b[0;32m<ipython-input-125-9555d534c719>\u001b[0m in \u001b[0;36m<module>\u001b[0;34m()\u001b[0m\n\u001b[1;32m      1\u001b[0m \u001b[0mvar_model\u001b[0m \u001b[0;34m=\u001b[0m \u001b[0mVARMAX\u001b[0m\u001b[0;34m(\u001b[0m\u001b[0mtrain_df\u001b[0m\u001b[0;34m,\u001b[0m \u001b[0morder\u001b[0m\u001b[0;34m=\u001b[0m\u001b[0;34m(\u001b[0m\u001b[0;36m4\u001b[0m\u001b[0;34m,\u001b[0m\u001b[0;36m0\u001b[0m\u001b[0;34m)\u001b[0m\u001b[0;34m,\u001b[0m\u001b[0menforce_stationarity\u001b[0m\u001b[0;34m=\u001b[0m \u001b[0;32mTrue\u001b[0m\u001b[0;34m)\u001b[0m\u001b[0;34m\u001b[0m\u001b[0;34m\u001b[0m\u001b[0m\n\u001b[0;32m----> 2\u001b[0;31m \u001b[0mfitted_model\u001b[0m \u001b[0;34m=\u001b[0m \u001b[0mvar_model\u001b[0m\u001b[0;34m.\u001b[0m\u001b[0mfit\u001b[0m\u001b[0;34m(\u001b[0m\u001b[0mdisp\u001b[0m\u001b[0;34m=\u001b[0m\u001b[0;32mFalse\u001b[0m\u001b[0;34m)\u001b[0m\u001b[0;34m\u001b[0m\u001b[0;34m\u001b[0m\u001b[0m\n\u001b[0m\u001b[1;32m      3\u001b[0m \u001b[0mprint\u001b[0m\u001b[0;34m(\u001b[0m\u001b[0mfitted_model\u001b[0m\u001b[0;34m.\u001b[0m\u001b[0msummary\u001b[0m\u001b[0;34m(\u001b[0m\u001b[0;34m)\u001b[0m\u001b[0;34m)\u001b[0m\u001b[0;34m\u001b[0m\u001b[0;34m\u001b[0m\u001b[0m\n",
            "\u001b[0;32m/usr/local/lib/python3.7/dist-packages/statsmodels/tsa/statespace/mlemodel.py\u001b[0m in \u001b[0;36mfit\u001b[0;34m(self, start_params, transformed, cov_type, cov_kwds, method, maxiter, full_output, disp, callback, return_params, optim_score, optim_complex_step, optim_hessian, flags, **kwargs)\u001b[0m\n\u001b[1;32m    444\u001b[0m         \"\"\"\n\u001b[1;32m    445\u001b[0m         \u001b[0;32mif\u001b[0m \u001b[0mstart_params\u001b[0m \u001b[0;32mis\u001b[0m \u001b[0;32mNone\u001b[0m\u001b[0;34m:\u001b[0m\u001b[0;34m\u001b[0m\u001b[0;34m\u001b[0m\u001b[0m\n\u001b[0;32m--> 446\u001b[0;31m             \u001b[0mstart_params\u001b[0m \u001b[0;34m=\u001b[0m \u001b[0mself\u001b[0m\u001b[0;34m.\u001b[0m\u001b[0mstart_params\u001b[0m\u001b[0;34m\u001b[0m\u001b[0;34m\u001b[0m\u001b[0m\n\u001b[0m\u001b[1;32m    447\u001b[0m             \u001b[0mtransformed\u001b[0m \u001b[0;34m=\u001b[0m \u001b[0;32mTrue\u001b[0m\u001b[0;34m\u001b[0m\u001b[0;34m\u001b[0m\u001b[0m\n\u001b[1;32m    448\u001b[0m \u001b[0;34m\u001b[0m\u001b[0m\n",
            "\u001b[0;32m/usr/local/lib/python3.7/dist-packages/statsmodels/tsa/statespace/varmax.py\u001b[0m in \u001b[0;36mstart_params\u001b[0;34m(self)\u001b[0m\n\u001b[1;32m    329\u001b[0m         \u001b[0;32mif\u001b[0m \u001b[0mself\u001b[0m\u001b[0;34m.\u001b[0m\u001b[0mk_trend\u001b[0m \u001b[0;34m>\u001b[0m \u001b[0;36m0\u001b[0m \u001b[0;32mor\u001b[0m \u001b[0mself\u001b[0m\u001b[0;34m.\u001b[0m\u001b[0mk_exog\u001b[0m \u001b[0;34m>\u001b[0m \u001b[0;36m0\u001b[0m\u001b[0;34m:\u001b[0m\u001b[0;34m\u001b[0m\u001b[0;34m\u001b[0m\u001b[0m\n\u001b[1;32m    330\u001b[0m             \u001b[0mtrendexog_params\u001b[0m \u001b[0;34m=\u001b[0m \u001b[0mnp\u001b[0m\u001b[0;34m.\u001b[0m\u001b[0mlinalg\u001b[0m\u001b[0;34m.\u001b[0m\u001b[0mpinv\u001b[0m\u001b[0;34m(\u001b[0m\u001b[0mexog\u001b[0m\u001b[0;34m)\u001b[0m\u001b[0;34m.\u001b[0m\u001b[0mdot\u001b[0m\u001b[0;34m(\u001b[0m\u001b[0mendog\u001b[0m\u001b[0;34m)\u001b[0m\u001b[0;34m\u001b[0m\u001b[0;34m\u001b[0m\u001b[0m\n\u001b[0;32m--> 331\u001b[0;31m             \u001b[0mendog\u001b[0m \u001b[0;34m-=\u001b[0m \u001b[0mnp\u001b[0m\u001b[0;34m.\u001b[0m\u001b[0mdot\u001b[0m\u001b[0;34m(\u001b[0m\u001b[0mexog\u001b[0m\u001b[0;34m,\u001b[0m \u001b[0mtrendexog_params\u001b[0m\u001b[0;34m)\u001b[0m\u001b[0;34m\u001b[0m\u001b[0;34m\u001b[0m\u001b[0m\n\u001b[0m\u001b[1;32m    332\u001b[0m             \u001b[0;32mif\u001b[0m \u001b[0mself\u001b[0m\u001b[0;34m.\u001b[0m\u001b[0mk_trend\u001b[0m \u001b[0;34m>\u001b[0m \u001b[0;36m0\u001b[0m\u001b[0;34m:\u001b[0m\u001b[0;34m\u001b[0m\u001b[0;34m\u001b[0m\u001b[0m\n\u001b[1;32m    333\u001b[0m                 \u001b[0mtrend_params\u001b[0m \u001b[0;34m=\u001b[0m \u001b[0mtrendexog_params\u001b[0m\u001b[0;34m[\u001b[0m\u001b[0;34m:\u001b[0m\u001b[0mself\u001b[0m\u001b[0;34m.\u001b[0m\u001b[0mk_trend\u001b[0m\u001b[0;34m]\u001b[0m\u001b[0;34m.\u001b[0m\u001b[0mT\u001b[0m\u001b[0;34m\u001b[0m\u001b[0;34m\u001b[0m\u001b[0m\n",
            "\u001b[0;31mUFuncTypeError\u001b[0m: Cannot cast ufunc 'subtract' output from dtype('float64') to dtype('int64') with casting rule 'same_kind'"
          ]
        }
      ]
    },
    {
      "cell_type": "code",
      "source": [
        ""
      ],
      "metadata": {
        "colab": {
          "base_uri": "https://localhost:8080/",
          "height": 165
        },
        "id": "_qrahR__Kfx9",
        "outputId": "a2937d81-6f0b-45f1-959f-66fcce97a6c1"
      },
      "execution_count": null,
      "outputs": [
        {
          "output_type": "error",
          "ename": "NameError",
          "evalue": "ignored",
          "traceback": [
            "\u001b[0;31m---------------------------------------------------------------------------\u001b[0m",
            "\u001b[0;31mNameError\u001b[0m                                 Traceback (most recent call last)",
            "\u001b[0;32m<ipython-input-127-2b0a7dce18cc>\u001b[0m in \u001b[0;36m<module>\u001b[0;34m()\u001b[0m\n\u001b[0;32m----> 1\u001b[0;31m \u001b[0mprint\u001b[0m\u001b[0;34m(\u001b[0m\u001b[0mkeras\u001b[0m\u001b[0;34m.\u001b[0m\u001b[0mversion\u001b[0m\u001b[0;34m)\u001b[0m\u001b[0;34m\u001b[0m\u001b[0;34m\u001b[0m\u001b[0m\n\u001b[0m",
            "\u001b[0;31mNameError\u001b[0m: name 'keras' is not defined"
          ]
        }
      ]
    },
    {
      "cell_type": "code",
      "source": [
        ""
      ],
      "metadata": {
        "id": "CFMadChfKf1u"
      },
      "execution_count": null,
      "outputs": []
    },
    {
      "cell_type": "code",
      "source": [
        "n_forecast = 12\n",
        "predict = fitted_model.get_prediction(start=len(train_df),end=len(train_df) + n_forecast-1)#\n",
        "\n",
        "predictions=predict.predicted_mean"
      ],
      "metadata": {
        "id": "BgtFcnst39lU"
      },
      "execution_count": null,
      "outputs": []
    },
    {
      "cell_type": "code",
      "source": [
        "predictions.columns=['TempMean_predicted','PrecipMean_predicted']\n",
        "predictions"
      ],
      "metadata": {
        "id": "eZ2orwvI39to",
        "colab": {
          "base_uri": "https://localhost:8080/",
          "height": 426
        },
        "outputId": "b3e8804f-e71f-43ce-9d3b-d5b341d4f86e"
      },
      "execution_count": null,
      "outputs": [
        {
          "output_type": "execute_result",
          "data": {
            "text/html": [
              "\n",
              "  <div id=\"df-588b3996-fab8-482c-862b-63328599f3ed\">\n",
              "    <div class=\"colab-df-container\">\n",
              "      <div>\n",
              "<style scoped>\n",
              "    .dataframe tbody tr th:only-of-type {\n",
              "        vertical-align: middle;\n",
              "    }\n",
              "\n",
              "    .dataframe tbody tr th {\n",
              "        vertical-align: top;\n",
              "    }\n",
              "\n",
              "    .dataframe thead th {\n",
              "        text-align: right;\n",
              "    }\n",
              "</style>\n",
              "<table border=\"1\" class=\"dataframe\">\n",
              "  <thead>\n",
              "    <tr style=\"text-align: right;\">\n",
              "      <th></th>\n",
              "      <th>TempMean_predicted</th>\n",
              "      <th>PrecipMean_predicted</th>\n",
              "    </tr>\n",
              "  </thead>\n",
              "  <tbody>\n",
              "    <tr>\n",
              "      <th>2021-02-01</th>\n",
              "      <td>46.128712</td>\n",
              "      <td>57.256452</td>\n",
              "    </tr>\n",
              "    <tr>\n",
              "      <th>2021-03-01</th>\n",
              "      <td>66.196897</td>\n",
              "      <td>65.245391</td>\n",
              "    </tr>\n",
              "    <tr>\n",
              "      <th>2021-04-01</th>\n",
              "      <td>56.824943</td>\n",
              "      <td>44.983039</td>\n",
              "    </tr>\n",
              "    <tr>\n",
              "      <th>2021-05-01</th>\n",
              "      <td>69.089408</td>\n",
              "      <td>57.003879</td>\n",
              "    </tr>\n",
              "    <tr>\n",
              "      <th>2021-06-01</th>\n",
              "      <td>77.485685</td>\n",
              "      <td>72.448771</td>\n",
              "    </tr>\n",
              "    <tr>\n",
              "      <th>2021-07-01</th>\n",
              "      <td>99.663084</td>\n",
              "      <td>96.584116</td>\n",
              "    </tr>\n",
              "    <tr>\n",
              "      <th>2021-08-01</th>\n",
              "      <td>96.853594</td>\n",
              "      <td>110.909891</td>\n",
              "    </tr>\n",
              "    <tr>\n",
              "      <th>2021-09-01</th>\n",
              "      <td>91.296554</td>\n",
              "      <td>110.473083</td>\n",
              "    </tr>\n",
              "    <tr>\n",
              "      <th>2021-10-01</th>\n",
              "      <td>80.128920</td>\n",
              "      <td>95.779106</td>\n",
              "    </tr>\n",
              "    <tr>\n",
              "      <th>2021-11-01</th>\n",
              "      <td>74.561389</td>\n",
              "      <td>86.928642</td>\n",
              "    </tr>\n",
              "    <tr>\n",
              "      <th>2021-12-01</th>\n",
              "      <td>53.091752</td>\n",
              "      <td>56.047059</td>\n",
              "    </tr>\n",
              "    <tr>\n",
              "      <th>2022-01-01</th>\n",
              "      <td>61.786442</td>\n",
              "      <td>54.708116</td>\n",
              "    </tr>\n",
              "  </tbody>\n",
              "</table>\n",
              "</div>\n",
              "      <button class=\"colab-df-convert\" onclick=\"convertToInteractive('df-588b3996-fab8-482c-862b-63328599f3ed')\"\n",
              "              title=\"Convert this dataframe to an interactive table.\"\n",
              "              style=\"display:none;\">\n",
              "        \n",
              "  <svg xmlns=\"http://www.w3.org/2000/svg\" height=\"24px\"viewBox=\"0 0 24 24\"\n",
              "       width=\"24px\">\n",
              "    <path d=\"M0 0h24v24H0V0z\" fill=\"none\"/>\n",
              "    <path d=\"M18.56 5.44l.94 2.06.94-2.06 2.06-.94-2.06-.94-.94-2.06-.94 2.06-2.06.94zm-11 1L8.5 8.5l.94-2.06 2.06-.94-2.06-.94L8.5 2.5l-.94 2.06-2.06.94zm10 10l.94 2.06.94-2.06 2.06-.94-2.06-.94-.94-2.06-.94 2.06-2.06.94z\"/><path d=\"M17.41 7.96l-1.37-1.37c-.4-.4-.92-.59-1.43-.59-.52 0-1.04.2-1.43.59L10.3 9.45l-7.72 7.72c-.78.78-.78 2.05 0 2.83L4 21.41c.39.39.9.59 1.41.59.51 0 1.02-.2 1.41-.59l7.78-7.78 2.81-2.81c.8-.78.8-2.07 0-2.86zM5.41 20L4 18.59l7.72-7.72 1.47 1.35L5.41 20z\"/>\n",
              "  </svg>\n",
              "      </button>\n",
              "      \n",
              "  <style>\n",
              "    .colab-df-container {\n",
              "      display:flex;\n",
              "      flex-wrap:wrap;\n",
              "      gap: 12px;\n",
              "    }\n",
              "\n",
              "    .colab-df-convert {\n",
              "      background-color: #E8F0FE;\n",
              "      border: none;\n",
              "      border-radius: 50%;\n",
              "      cursor: pointer;\n",
              "      display: none;\n",
              "      fill: #1967D2;\n",
              "      height: 32px;\n",
              "      padding: 0 0 0 0;\n",
              "      width: 32px;\n",
              "    }\n",
              "\n",
              "    .colab-df-convert:hover {\n",
              "      background-color: #E2EBFA;\n",
              "      box-shadow: 0px 1px 2px rgba(60, 64, 67, 0.3), 0px 1px 3px 1px rgba(60, 64, 67, 0.15);\n",
              "      fill: #174EA6;\n",
              "    }\n",
              "\n",
              "    [theme=dark] .colab-df-convert {\n",
              "      background-color: #3B4455;\n",
              "      fill: #D2E3FC;\n",
              "    }\n",
              "\n",
              "    [theme=dark] .colab-df-convert:hover {\n",
              "      background-color: #434B5C;\n",
              "      box-shadow: 0px 1px 3px 1px rgba(0, 0, 0, 0.15);\n",
              "      filter: drop-shadow(0px 1px 2px rgba(0, 0, 0, 0.3));\n",
              "      fill: #FFFFFF;\n",
              "    }\n",
              "  </style>\n",
              "\n",
              "      <script>\n",
              "        const buttonEl =\n",
              "          document.querySelector('#df-588b3996-fab8-482c-862b-63328599f3ed button.colab-df-convert');\n",
              "        buttonEl.style.display =\n",
              "          google.colab.kernel.accessAllowed ? 'block' : 'none';\n",
              "\n",
              "        async function convertToInteractive(key) {\n",
              "          const element = document.querySelector('#df-588b3996-fab8-482c-862b-63328599f3ed');\n",
              "          const dataTable =\n",
              "            await google.colab.kernel.invokeFunction('convertToInteractive',\n",
              "                                                     [key], {});\n",
              "          if (!dataTable) return;\n",
              "\n",
              "          const docLinkHtml = 'Like what you see? Visit the ' +\n",
              "            '<a target=\"_blank\" href=https://colab.research.google.com/notebooks/data_table.ipynb>data table notebook</a>'\n",
              "            + ' to learn more about interactive tables.';\n",
              "          element.innerHTML = '';\n",
              "          dataTable['output_type'] = 'display_data';\n",
              "          await google.colab.output.renderOutput(dataTable, element);\n",
              "          const docLink = document.createElement('div');\n",
              "          docLink.innerHTML = docLinkHtml;\n",
              "          element.appendChild(docLink);\n",
              "        }\n",
              "      </script>\n",
              "    </div>\n",
              "  </div>\n",
              "  "
            ],
            "text/plain": [
              "            TempMean_predicted  PrecipMean_predicted\n",
              "2021-02-01           46.128712             57.256452\n",
              "2021-03-01           66.196897             65.245391\n",
              "2021-04-01           56.824943             44.983039\n",
              "2021-05-01           69.089408             57.003879\n",
              "2021-06-01           77.485685             72.448771\n",
              "2021-07-01           99.663084             96.584116\n",
              "2021-08-01           96.853594            110.909891\n",
              "2021-09-01           91.296554            110.473083\n",
              "2021-10-01           80.128920             95.779106\n",
              "2021-11-01           74.561389             86.928642\n",
              "2021-12-01           53.091752             56.047059\n",
              "2022-01-01           61.786442             54.708116"
            ]
          },
          "metadata": {},
          "execution_count": 42
        }
      ]
    },
    {
      "cell_type": "code",
      "source": [
        "test_vs_pred=pd.concat([test_df,predictions],axis=1)"
      ],
      "metadata": {
        "id": "Dc44QWHv4VvM"
      },
      "execution_count": null,
      "outputs": []
    },
    {
      "cell_type": "code",
      "source": [
        "test_vs_pred.plot(figsize=(12,5))"
      ],
      "metadata": {
        "id": "Vd12Mhii4VzI",
        "colab": {
          "base_uri": "https://localhost:8080/",
          "height": 348
        },
        "outputId": "d702b961-7d93-49f2-932d-d8f6969e1f6c"
      },
      "execution_count": null,
      "outputs": [
        {
          "output_type": "execute_result",
          "data": {
            "text/plain": [
              "<matplotlib.axes._subplots.AxesSubplot at 0x7f5d54c634d0>"
            ]
          },
          "metadata": {},
          "execution_count": 44
        },
        {
          "output_type": "display_data",
          "data": {
            "image/png": "[encoded data removed]",
            "text/plain": [
              "<Figure size 864x360 with 1 Axes>"
            ]
          },
          "metadata": {
            "needs_background": "light"
          }
        }
      ]
    },
    {
      "cell_type": "code",
      "source": [
        "from sklearn.metrics import mean_squared_error\n",
        "import math \n",
        "from statistics import mean\n",
        "\n",
        "rmse_ulc=math.sqrt(mean_squared_error(predictions['TempMean_predicted'],test_df['TempMean']))\n",
        "print('Mean value of TempMean is : {}. Root Mean Squared Error is :{}'.format(mean(test_df['TempMean']),rmse_ulc))\n",
        "\n",
        "rmse_rgnp=math.sqrt(mean_squared_error(predictions['PrecipMean_predicted'],test_df['PrecipMean']))\n",
        "print('Mean value of PrecipMean is : {}. Root Mean Squared Error is :{}'.format(mean(test_df['PrecipMean']),rmse_rgnp))"
      ],
      "metadata": {
        "id": "ZP6fcdXr4iMO",
        "colab": {
          "base_uri": "https://localhost:8080/"
        },
        "outputId": "111c8a5f-8da0-444d-e1f8-acc45db5ebc5"
      },
      "execution_count": null,
      "outputs": [
        {
          "output_type": "stream",
          "name": "stdout",
          "text": [
            "Mean value of TempMean is : 104.39166666666667. Root Mean Squared Error is :35.31547508414271\n",
            "Mean value of PrecipMean is : 121.475. Root Mean Squared Error is :50.830463062535024\n"
          ]
        }
      ]
    },
    {
      "cell_type": "code",
      "source": [
        ""
      ],
      "metadata": {
        "id": "qWJo-sMp4iPf"
      },
      "execution_count": null,
      "outputs": []
    }
  ]
}